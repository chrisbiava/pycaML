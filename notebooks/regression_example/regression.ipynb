{
 "cells": [
  {
   "cell_type": "markdown",
   "metadata": {},
   "source": [
    "![image](logo.png)\n",
    "### Python Comparative Analysis for Machine Learning\n"
   ]
  },
  {
   "cell_type": "markdown",
   "metadata": {},
   "source": [
    "# Usage example\n",
    "pycaML allows to compare models with tuned and default parameters. It also supports stacking and voting ensembles.\n",
    "\n",
    "Every object in pycaML is an Experiment. There are two types of Experiments: `RegressionExperiment`, and `ClassificationExperiment`. If you start a `ClassificationExperiment`, pyCAML automatically understands if it's a binary classification task, or multi-label classification.\n",
    "\n",
    "To begin, let's create a `RegressionExperiment` instance using the diabetes dataset."
   ]
  },
  {
   "cell_type": "code",
   "execution_count": 1,
   "metadata": {},
   "outputs": [
    {
     "name": "stdout",
     "output_type": "stream",
     "text": [
      "Data loaded\n",
      "X_train, y_train, X_test, y_test saved\n"
     ]
    }
   ],
   "source": [
    "from pycaML import RegressionExperiment\n",
    "diabetes = RegressionExperiment(name = 'diabetes')\n",
    "diabetes.load_data('diabetes.csv', target = 'Glucose')"
   ]
  },
  {
   "cell_type": "markdown",
   "metadata": {},
   "source": [
    "The diabetes object automatically creates the necessary folders for the experiment. \n",
    "`load_data`   takes the dataset as an input, splits it in 4 files and saves them to the `/experiments/diabetes/data` folder.\n"
   ]
  },
  {
   "cell_type": "markdown",
   "metadata": {},
   "source": [
    "The `start` method starts the experiment, and saves the result in the `/experiments/diabetes/data`. If the file already exists, the result is loaded and the function doesn't run."
   ]
  },
  {
   "cell_type": "code",
   "execution_count": 2,
   "metadata": {},
   "outputs": [
    {
     "name": "stdout",
     "output_type": "stream",
     "text": [
      "20:39:07: Training Ridge 13/14                  \r"
     ]
    },
    {
     "data": {
      "text/html": [
       "<div>\n",
       "<style scoped>\n",
       "    .dataframe tbody tr th:only-of-type {\n",
       "        vertical-align: middle;\n",
       "    }\n",
       "\n",
       "    .dataframe tbody tr th {\n",
       "        vertical-align: top;\n",
       "    }\n",
       "\n",
       "    .dataframe thead th {\n",
       "        text-align: right;\n",
       "    }\n",
       "</style>\n",
       "<table border=\"1\" class=\"dataframe\">\n",
       "  <thead>\n",
       "    <tr style=\"text-align: right;\">\n",
       "      <th></th>\n",
       "      <th>Model</th>\n",
       "      <th>RMSE_test</th>\n",
       "      <th>RMSE_cv</th>\n",
       "      <th>RMSE_std</th>\n",
       "      <th>Time</th>\n",
       "    </tr>\n",
       "  </thead>\n",
       "  <tbody>\n",
       "    <tr>\n",
       "      <th>9</th>\n",
       "      <td>EBM</td>\n",
       "      <td>25.559451</td>\n",
       "      <td>26.538906</td>\n",
       "      <td>2.928745</td>\n",
       "      <td>1.304769</td>\n",
       "    </tr>\n",
       "    <tr>\n",
       "      <th>1</th>\n",
       "      <td>Random Forest</td>\n",
       "      <td>26.527714</td>\n",
       "      <td>27.335807</td>\n",
       "      <td>3.334061</td>\n",
       "      <td>0.159000</td>\n",
       "    </tr>\n",
       "    <tr>\n",
       "      <th>12</th>\n",
       "      <td>Ridge</td>\n",
       "      <td>26.550075</td>\n",
       "      <td>26.155185</td>\n",
       "      <td>2.915300</td>\n",
       "      <td>0.000801</td>\n",
       "    </tr>\n",
       "    <tr>\n",
       "      <th>11</th>\n",
       "      <td>Lasso</td>\n",
       "      <td>26.648249</td>\n",
       "      <td>26.215473</td>\n",
       "      <td>3.020647</td>\n",
       "      <td>0.000801</td>\n",
       "    </tr>\n",
       "    <tr>\n",
       "      <th>6</th>\n",
       "      <td>ExtraTrees</td>\n",
       "      <td>27.735110</td>\n",
       "      <td>27.292827</td>\n",
       "      <td>2.948893</td>\n",
       "      <td>0.102400</td>\n",
       "    </tr>\n",
       "    <tr>\n",
       "      <th>10</th>\n",
       "      <td>Elastic Net</td>\n",
       "      <td>28.204873</td>\n",
       "      <td>27.343020</td>\n",
       "      <td>3.136312</td>\n",
       "      <td>0.000602</td>\n",
       "    </tr>\n",
       "    <tr>\n",
       "      <th>5</th>\n",
       "      <td>CatBoost</td>\n",
       "      <td>28.465623</td>\n",
       "      <td>27.322818</td>\n",
       "      <td>3.300429</td>\n",
       "      <td>1.441607</td>\n",
       "    </tr>\n",
       "    <tr>\n",
       "      <th>7</th>\n",
       "      <td>KNN</td>\n",
       "      <td>28.888397</td>\n",
       "      <td>29.704169</td>\n",
       "      <td>3.227931</td>\n",
       "      <td>0.000601</td>\n",
       "    </tr>\n",
       "    <tr>\n",
       "      <th>4</th>\n",
       "      <td>Gradient Boost</td>\n",
       "      <td>29.001088</td>\n",
       "      <td>27.448801</td>\n",
       "      <td>3.289781</td>\n",
       "      <td>0.129612</td>\n",
       "    </tr>\n",
       "    <tr>\n",
       "      <th>3</th>\n",
       "      <td>LightGBM</td>\n",
       "      <td>29.300748</td>\n",
       "      <td>27.547163</td>\n",
       "      <td>3.597968</td>\n",
       "      <td>1.557333</td>\n",
       "    </tr>\n",
       "    <tr>\n",
       "      <th>2</th>\n",
       "      <td>XGBoost</td>\n",
       "      <td>29.375231</td>\n",
       "      <td>29.392813</td>\n",
       "      <td>2.936202</td>\n",
       "      <td>3.821928</td>\n",
       "    </tr>\n",
       "    <tr>\n",
       "      <th>8</th>\n",
       "      <td>AdaBoost</td>\n",
       "      <td>29.375362</td>\n",
       "      <td>28.610432</td>\n",
       "      <td>2.796502</td>\n",
       "      <td>0.050647</td>\n",
       "    </tr>\n",
       "    <tr>\n",
       "      <th>0</th>\n",
       "      <td>Decision Tree</td>\n",
       "      <td>37.105501</td>\n",
       "      <td>38.796203</td>\n",
       "      <td>3.965597</td>\n",
       "      <td>0.001799</td>\n",
       "    </tr>\n",
       "  </tbody>\n",
       "</table>\n",
       "</div>"
      ],
      "text/plain": [
       "             Model  RMSE_test    RMSE_cv  RMSE_std      Time\n",
       "9              EBM  25.559451  26.538906  2.928745  1.304769\n",
       "1    Random Forest  26.527714  27.335807  3.334061  0.159000\n",
       "12           Ridge  26.550075  26.155185  2.915300  0.000801\n",
       "11           Lasso  26.648249  26.215473  3.020647  0.000801\n",
       "6       ExtraTrees  27.735110  27.292827  2.948893  0.102400\n",
       "10     Elastic Net  28.204873  27.343020  3.136312  0.000602\n",
       "5         CatBoost  28.465623  27.322818  3.300429  1.441607\n",
       "7              KNN  28.888397  29.704169  3.227931  0.000601\n",
       "4   Gradient Boost  29.001088  27.448801  3.289781  0.129612\n",
       "3         LightGBM  29.300748  27.547163  3.597968  1.557333\n",
       "2          XGBoost  29.375231  29.392813  2.936202  3.821928\n",
       "8         AdaBoost  29.375362  28.610432  2.796502  0.050647\n",
       "0    Decision Tree  37.105501  38.796203  3.965597  0.001799"
      ]
     },
     "execution_count": 2,
     "metadata": {},
     "output_type": "execute_result"
    }
   ],
   "source": [
    "diabetes.start() \n",
    "diabetes.result"
   ]
  },
  {
   "cell_type": "markdown",
   "metadata": {},
   "source": [
    "By default, a 5-fold cross validation is performed. `RMSE_cv` is the mean score on the validation folds. `RMSE_std` is the mean standard deviation score from the validation folds.\n",
    "You can customize the number of folds by setting the `cv` parameter. Example with 10-fold cross validation:"
   ]
  },
  {
   "cell_type": "code",
   "execution_count": null,
   "metadata": {},
   "outputs": [],
   "source": [
    "diabetes.start(cv = 10) "
   ]
  },
  {
   "cell_type": "markdown",
   "metadata": {},
   "source": [
    "# Stacking models"
   ]
  },
  {
   "cell_type": "markdown",
   "metadata": {},
   "source": [
    "The above experiment trained all the available models with default parameters.\n",
    "To perform model stacking, let's create another experiment. There is no need to run `load_data` if the data has already been copied in the data folder.\n"
   ]
  },
  {
   "cell_type": "code",
   "execution_count": 3,
   "metadata": {},
   "outputs": [
    {
     "name": "stdout",
     "output_type": "stream",
     "text": [
      "Result loaded\n",
      "Data loaded\n",
      "10:51:24: Training Voting (diverse) 4/5            \r"
     ]
    },
    {
     "data": {
      "text/html": [
       "<div>\n",
       "<style scoped>\n",
       "    .dataframe tbody tr th:only-of-type {\n",
       "        vertical-align: middle;\n",
       "    }\n",
       "\n",
       "    .dataframe tbody tr th {\n",
       "        vertical-align: top;\n",
       "    }\n",
       "\n",
       "    .dataframe thead th {\n",
       "        text-align: right;\n",
       "    }\n",
       "</style>\n",
       "<table border=\"1\" class=\"dataframe\">\n",
       "  <thead>\n",
       "    <tr style=\"text-align: right;\">\n",
       "      <th></th>\n",
       "      <th>Model</th>\n",
       "      <th>RMSE_test</th>\n",
       "      <th>RMSE_cv</th>\n",
       "      <th>rmse_Std</th>\n",
       "      <th>Time</th>\n",
       "    </tr>\n",
       "  </thead>\n",
       "  <tbody>\n",
       "    <tr>\n",
       "      <th>2</th>\n",
       "      <td>Stacking (diverse)</td>\n",
       "      <td>25.810042</td>\n",
       "      <td>26.546858</td>\n",
       "      <td>2.822744</td>\n",
       "      <td>7.049409</td>\n",
       "    </tr>\n",
       "    <tr>\n",
       "      <th>3</th>\n",
       "      <td>Voting (diverse)</td>\n",
       "      <td>26.053284</td>\n",
       "      <td>26.864156</td>\n",
       "      <td>3.488867</td>\n",
       "      <td>1.406394</td>\n",
       "    </tr>\n",
       "    <tr>\n",
       "      <th>0</th>\n",
       "      <td>Stacking (all)</td>\n",
       "      <td>26.521660</td>\n",
       "      <td>26.988583</td>\n",
       "      <td>2.827267</td>\n",
       "      <td>61.703028</td>\n",
       "    </tr>\n",
       "    <tr>\n",
       "      <th>1</th>\n",
       "      <td>Voting (all)</td>\n",
       "      <td>26.587388</td>\n",
       "      <td>26.503379</td>\n",
       "      <td>3.350272</td>\n",
       "      <td>8.767302</td>\n",
       "    </tr>\n",
       "  </tbody>\n",
       "</table>\n",
       "</div>"
      ],
      "text/plain": [
       "                Model  RMSE_test    RMSE_cv  rmse_Std       Time\n",
       "2  Stacking (diverse)  25.810042  26.546858  2.822744   7.049409\n",
       "3    Voting (diverse)  26.053284  26.864156  3.488867   1.406394\n",
       "0      Stacking (all)  26.521660  26.988583  2.827267  61.703028\n",
       "1        Voting (all)  26.587388  26.503379  3.350272   8.767302"
      ]
     },
     "execution_count": 3,
     "metadata": {},
     "output_type": "execute_result"
    }
   ],
   "source": [
    "diabetes_stacking = RegressionExperiment(name = 'diabetes', stacking = True)\n",
    "diabetes_stacking.start()\n",
    "diabetes_stacking.result"
   ]
  },
  {
   "cell_type": "markdown",
   "metadata": {},
   "source": [
    "Stacking all uses every other model as level 0 estimators.\n",
    "Stacking and voting diverse only take the best model from boosting, the best for parallel models (RF, ET) and simple models."
   ]
  },
  {
   "cell_type": "markdown",
   "metadata": {},
   "source": [
    "# Hyperparameter tuning\n",
    "Hyperparameters tuning is as simple as creating another experiment with the flag `tuning = True`. You can also stack tuned models by combining the parameters."
   ]
  },
  {
   "cell_type": "code",
   "execution_count": 5,
   "metadata": {},
   "outputs": [
    {
     "data": {
      "text/html": [
       "<div>\n",
       "<style scoped>\n",
       "    .dataframe tbody tr th:only-of-type {\n",
       "        vertical-align: middle;\n",
       "    }\n",
       "\n",
       "    .dataframe tbody tr th {\n",
       "        vertical-align: top;\n",
       "    }\n",
       "\n",
       "    .dataframe thead th {\n",
       "        text-align: right;\n",
       "    }\n",
       "</style>\n",
       "<table border=\"1\" class=\"dataframe\">\n",
       "  <thead>\n",
       "    <tr style=\"text-align: right;\">\n",
       "      <th></th>\n",
       "      <th>Model</th>\n",
       "      <th>RMSE_test</th>\n",
       "      <th>RMSE_cv</th>\n",
       "      <th>RMSE_std</th>\n",
       "      <th>Time</th>\n",
       "    </tr>\n",
       "  </thead>\n",
       "  <tbody>\n",
       "    <tr>\n",
       "      <th>0</th>\n",
       "      <td>XGBoost</td>\n",
       "      <td>25.431691</td>\n",
       "      <td>26.275172</td>\n",
       "      <td>3.162214</td>\n",
       "      <td>1.103000</td>\n",
       "    </tr>\n",
       "    <tr>\n",
       "      <th>1</th>\n",
       "      <td>CatBoost</td>\n",
       "      <td>25.620023</td>\n",
       "      <td>26.000716</td>\n",
       "      <td>2.966027</td>\n",
       "      <td>0.351201</td>\n",
       "    </tr>\n",
       "    <tr>\n",
       "      <th>2</th>\n",
       "      <td>ExtraTrees</td>\n",
       "      <td>25.692319</td>\n",
       "      <td>25.974532</td>\n",
       "      <td>3.066963</td>\n",
       "      <td>0.091200</td>\n",
       "    </tr>\n",
       "    <tr>\n",
       "      <th>3</th>\n",
       "      <td>Random Forest</td>\n",
       "      <td>25.714510</td>\n",
       "      <td>26.282910</td>\n",
       "      <td>3.190689</td>\n",
       "      <td>0.238601</td>\n",
       "    </tr>\n",
       "    <tr>\n",
       "      <th>4</th>\n",
       "      <td>Gradient Boost</td>\n",
       "      <td>25.799594</td>\n",
       "      <td>26.226755</td>\n",
       "      <td>3.174442</td>\n",
       "      <td>0.067601</td>\n",
       "    </tr>\n",
       "    <tr>\n",
       "      <th>5</th>\n",
       "      <td>EBM</td>\n",
       "      <td>26.036886</td>\n",
       "      <td>26.271469</td>\n",
       "      <td>3.068709</td>\n",
       "      <td>2.507198</td>\n",
       "    </tr>\n",
       "    <tr>\n",
       "      <th>6</th>\n",
       "      <td>LightGBM</td>\n",
       "      <td>26.205889</td>\n",
       "      <td>26.325291</td>\n",
       "      <td>3.284387</td>\n",
       "      <td>0.769460</td>\n",
       "    </tr>\n",
       "    <tr>\n",
       "      <th>7</th>\n",
       "      <td>Lasso</td>\n",
       "      <td>26.544329</td>\n",
       "      <td>26.156433</td>\n",
       "      <td>2.910997</td>\n",
       "      <td>0.000400</td>\n",
       "    </tr>\n",
       "    <tr>\n",
       "      <th>8</th>\n",
       "      <td>Elastic Net</td>\n",
       "      <td>26.554725</td>\n",
       "      <td>26.155138</td>\n",
       "      <td>2.920088</td>\n",
       "      <td>0.000400</td>\n",
       "    </tr>\n",
       "    <tr>\n",
       "      <th>9</th>\n",
       "      <td>Ridge</td>\n",
       "      <td>26.556566</td>\n",
       "      <td>26.154694</td>\n",
       "      <td>2.922152</td>\n",
       "      <td>0.000600</td>\n",
       "    </tr>\n",
       "    <tr>\n",
       "      <th>10</th>\n",
       "      <td>Decision Tree</td>\n",
       "      <td>26.731809</td>\n",
       "      <td>27.203425</td>\n",
       "      <td>3.141573</td>\n",
       "      <td>0.000801</td>\n",
       "    </tr>\n",
       "    <tr>\n",
       "      <th>11</th>\n",
       "      <td>AdaBoost</td>\n",
       "      <td>26.803924</td>\n",
       "      <td>26.595943</td>\n",
       "      <td>3.169924</td>\n",
       "      <td>0.083601</td>\n",
       "    </tr>\n",
       "    <tr>\n",
       "      <th>12</th>\n",
       "      <td>KNN</td>\n",
       "      <td>27.212723</td>\n",
       "      <td>27.897804</td>\n",
       "      <td>3.489541</td>\n",
       "      <td>0.000600</td>\n",
       "    </tr>\n",
       "  </tbody>\n",
       "</table>\n",
       "</div>"
      ],
      "text/plain": [
       "             Model  RMSE_test    RMSE_cv  RMSE_std      Time\n",
       "0          XGBoost  25.431691  26.275172  3.162214  1.103000\n",
       "1         CatBoost  25.620023  26.000716  2.966027  0.351201\n",
       "2       ExtraTrees  25.692319  25.974532  3.066963  0.091200\n",
       "3    Random Forest  25.714510  26.282910  3.190689  0.238601\n",
       "4   Gradient Boost  25.799594  26.226755  3.174442  0.067601\n",
       "5              EBM  26.036886  26.271469  3.068709  2.507198\n",
       "6         LightGBM  26.205889  26.325291  3.284387  0.769460\n",
       "7            Lasso  26.544329  26.156433  2.910997  0.000400\n",
       "8      Elastic Net  26.554725  26.155138  2.920088  0.000400\n",
       "9            Ridge  26.556566  26.154694  2.922152  0.000600\n",
       "10   Decision Tree  26.731809  27.203425  3.141573  0.000801\n",
       "11        AdaBoost  26.803924  26.595943  3.169924  0.083601\n",
       "12             KNN  27.212723  27.897804  3.489541  0.000600"
      ]
     },
     "execution_count": 5,
     "metadata": {},
     "output_type": "execute_result"
    }
   ],
   "source": [
    "diabetes_tuned = RegressionExperiment(name = 'diabetes', tuning = True)\n",
    "#n_eval optional paramerer, default = 100\n",
    "diabetes_tuned.start(n_eval = 100)\n",
    "diabetes_tuned.result"
   ]
  },
  {
   "cell_type": "code",
   "execution_count": 5,
   "metadata": {},
   "outputs": [
    {
     "data": {
      "text/html": [
       "<div>\n",
       "<style scoped>\n",
       "    .dataframe tbody tr th:only-of-type {\n",
       "        vertical-align: middle;\n",
       "    }\n",
       "\n",
       "    .dataframe tbody tr th {\n",
       "        vertical-align: top;\n",
       "    }\n",
       "\n",
       "    .dataframe thead th {\n",
       "        text-align: right;\n",
       "    }\n",
       "</style>\n",
       "<table border=\"1\" class=\"dataframe\">\n",
       "  <thead>\n",
       "    <tr style=\"text-align: right;\">\n",
       "      <th></th>\n",
       "      <th>Model</th>\n",
       "      <th>RMSE_test</th>\n",
       "      <th>RMSE_cv</th>\n",
       "      <th>rmse_Std</th>\n",
       "      <th>Time</th>\n",
       "    </tr>\n",
       "  </thead>\n",
       "  <tbody>\n",
       "    <tr>\n",
       "      <th>2</th>\n",
       "      <td>Stacking (diverse)</td>\n",
       "      <td>25.459647</td>\n",
       "      <td>25.952576</td>\n",
       "      <td>3.100108</td>\n",
       "      <td>6.207174</td>\n",
       "    </tr>\n",
       "    <tr>\n",
       "      <th>3</th>\n",
       "      <td>Voting (diverse)</td>\n",
       "      <td>25.502212</td>\n",
       "      <td>25.926700</td>\n",
       "      <td>3.261200</td>\n",
       "      <td>1.046467</td>\n",
       "    </tr>\n",
       "    <tr>\n",
       "      <th>0</th>\n",
       "      <td>Stacking (all)</td>\n",
       "      <td>25.553054</td>\n",
       "      <td>26.649562</td>\n",
       "      <td>3.079056</td>\n",
       "      <td>29.515667</td>\n",
       "    </tr>\n",
       "    <tr>\n",
       "      <th>1</th>\n",
       "      <td>Voting (all)</td>\n",
       "      <td>25.553578</td>\n",
       "      <td>25.921760</td>\n",
       "      <td>3.252272</td>\n",
       "      <td>4.945500</td>\n",
       "    </tr>\n",
       "  </tbody>\n",
       "</table>\n",
       "</div>"
      ],
      "text/plain": [
       "                Model  RMSE_test    RMSE_cv  rmse_Std       Time\n",
       "2  Stacking (diverse)  25.459647  25.952576  3.100108   6.207174\n",
       "3    Voting (diverse)  25.502212  25.926700  3.261200   1.046467\n",
       "0      Stacking (all)  25.553054  26.649562  3.079056  29.515667\n",
       "1        Voting (all)  25.553578  25.921760  3.252272   4.945500"
      ]
     },
     "execution_count": 5,
     "metadata": {},
     "output_type": "execute_result"
    }
   ],
   "source": [
    "diabetes_stacking_tuned = RegressionExperiment(name = 'diabetes', tuning = True, stacking = True)\n",
    "diabetes_stacking_tuned.start()\n",
    "diabetes_stacking_tuned.result"
   ]
  },
  {
   "cell_type": "markdown",
   "metadata": {},
   "source": [
    "The `start` method starts optimizing every single model with 100 runs of Bayesian Optimization using TPE algorithm. It's based on the package hyperopt.\n",
    "\n",
    "But don't worry! Since optimizing models take a lot of time, you don't need to optimize each one in a single run.  \n",
    "pycaML saves optimized parameters to the `experiments/diabetes/params/` folder. When running the experiments, the parameters are automatically loaded if they already exists. So you won't run the same optimization twice (unless you delete the file)  \n",
    "The `experiments/diabetes/trials/` folder contains additional informations on the optimization runs.\n",
    "\n"
   ]
  },
  {
   "cell_type": "markdown",
   "metadata": {},
   "source": [
    "\n",
    "\n",
    "\n",
    "# Author \n",
    "If you like the package, you can find me on [LinkedIn](https://www.linkedin.com/in/donato-riccio-280084146/).\n"
   ]
  }
 ],
 "metadata": {
  "kernelspec": {
   "display_name": "Python 3.10.5 64-bit",
   "language": "python",
   "name": "python3"
  },
  "language_info": {
   "codemirror_mode": {
    "name": "ipython",
    "version": 3
   },
   "file_extension": ".py",
   "mimetype": "text/x-python",
   "name": "python",
   "nbconvert_exporter": "python",
   "pygments_lexer": "ipython3",
   "version": "3.10.5"
  },
  "orig_nbformat": 4,
  "vscode": {
   "interpreter": {
    "hash": "75e9492e2bd1b7cf8a6b7fd9671f0e08d27fd09ea10c5689514de8b5bce7075a"
   }
  }
 },
 "nbformat": 4,
 "nbformat_minor": 2
}
