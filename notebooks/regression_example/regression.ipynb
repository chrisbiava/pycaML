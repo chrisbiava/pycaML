{
 "cells": [
  {
   "cell_type": "markdown",
   "metadata": {},
   "source": [
    "![image](logo.png)\n",
    "### Python Comparative Analysis for Machine Learning\n"
   ]
  },
  {
   "cell_type": "markdown",
   "metadata": {},
   "source": [
    "# Usage example\n",
    "pycaML allows to compare models with tuned and default parameters. It also supports stacking and voting ensembles.\n",
    "\n",
    "Every object in pycaML is an Experiment. There are three types of Experiments: `RegressionExperiment`, `BinaryClassificationExperiment` and `MultiClassExperiment`. \n",
    "\n",
    "To begin, let's create a `RegressionExperiment` instance using the diabetes dataset."
   ]
  },
  {
   "cell_type": "code",
   "execution_count": 1,
   "metadata": {},
   "outputs": [
    {
     "name": "stdout",
     "output_type": "stream",
     "text": [
      "Data loaded\n",
      "Data loaded\n"
     ]
    }
   ],
   "source": [
    "from pycaML import RegressionExperiment\n",
    "diabetes = RegressionExperiment(name = 'diabetes')\n",
    "diabetes.load_data('diabetes.csv', target = 'Glucose')"
   ]
  },
  {
   "cell_type": "markdown",
   "metadata": {},
   "source": [
    "The diabetes object automatically creates the necessary folders for the experiment. \n",
    "`load_data`   takes the dataset as an input, splits it in 4 files and saves them to the `/experiments/diabetes/data` folder.\n"
   ]
  },
  {
   "cell_type": "markdown",
   "metadata": {},
   "source": [
    "The `start` method starts the experiment, and saves the result in the `/experiments/diabetes/data`. If the file already exists, the result is loaded and the function doesn't run."
   ]
  },
  {
   "cell_type": "code",
   "execution_count": 2,
   "metadata": {},
   "outputs": [
    {
     "name": "stdout",
     "output_type": "stream",
     "text": [
      "10:49:25: Training Linear Regression 11/12          \r"
     ]
    },
    {
     "data": {
      "text/html": [
       "<div>\n",
       "<style scoped>\n",
       "    .dataframe tbody tr th:only-of-type {\n",
       "        vertical-align: middle;\n",
       "    }\n",
       "\n",
       "    .dataframe tbody tr th {\n",
       "        vertical-align: top;\n",
       "    }\n",
       "\n",
       "    .dataframe thead th {\n",
       "        text-align: right;\n",
       "    }\n",
       "</style>\n",
       "<table border=\"1\" class=\"dataframe\">\n",
       "  <thead>\n",
       "    <tr style=\"text-align: right;\">\n",
       "      <th></th>\n",
       "      <th>Model</th>\n",
       "      <th>RMSE_test</th>\n",
       "      <th>RMSE_cv</th>\n",
       "      <th>rmse_Std</th>\n",
       "      <th>Time</th>\n",
       "    </tr>\n",
       "  </thead>\n",
       "  <tbody>\n",
       "    <tr>\n",
       "      <th>9</th>\n",
       "      <td>EBM</td>\n",
       "      <td>25.559451</td>\n",
       "      <td>26.538906</td>\n",
       "      <td>2.928745</td>\n",
       "      <td>1.302912</td>\n",
       "    </tr>\n",
       "    <tr>\n",
       "      <th>1</th>\n",
       "      <td>Random Forest</td>\n",
       "      <td>26.527714</td>\n",
       "      <td>27.335807</td>\n",
       "      <td>3.334061</td>\n",
       "      <td>0.151600</td>\n",
       "    </tr>\n",
       "    <tr>\n",
       "      <th>10</th>\n",
       "      <td>Linear Regression</td>\n",
       "      <td>26.545738</td>\n",
       "      <td>26.156182</td>\n",
       "      <td>2.910194</td>\n",
       "      <td>0.002003</td>\n",
       "    </tr>\n",
       "    <tr>\n",
       "      <th>6</th>\n",
       "      <td>ExtraTrees</td>\n",
       "      <td>27.735110</td>\n",
       "      <td>27.292827</td>\n",
       "      <td>2.948893</td>\n",
       "      <td>0.105200</td>\n",
       "    </tr>\n",
       "    <tr>\n",
       "      <th>5</th>\n",
       "      <td>CatBoost</td>\n",
       "      <td>28.465623</td>\n",
       "      <td>27.322818</td>\n",
       "      <td>3.300429</td>\n",
       "      <td>1.255016</td>\n",
       "    </tr>\n",
       "    <tr>\n",
       "      <th>7</th>\n",
       "      <td>KNN</td>\n",
       "      <td>28.888397</td>\n",
       "      <td>29.704169</td>\n",
       "      <td>3.227931</td>\n",
       "      <td>0.001999</td>\n",
       "    </tr>\n",
       "    <tr>\n",
       "      <th>4</th>\n",
       "      <td>Gradient Boost</td>\n",
       "      <td>29.001088</td>\n",
       "      <td>27.448801</td>\n",
       "      <td>3.289781</td>\n",
       "      <td>0.137202</td>\n",
       "    </tr>\n",
       "    <tr>\n",
       "      <th>3</th>\n",
       "      <td>LightGBM</td>\n",
       "      <td>29.287183</td>\n",
       "      <td>27.550593</td>\n",
       "      <td>3.601632</td>\n",
       "      <td>1.814198</td>\n",
       "    </tr>\n",
       "    <tr>\n",
       "      <th>2</th>\n",
       "      <td>XGBoost</td>\n",
       "      <td>29.375231</td>\n",
       "      <td>29.392813</td>\n",
       "      <td>2.936202</td>\n",
       "      <td>4.303913</td>\n",
       "    </tr>\n",
       "    <tr>\n",
       "      <th>8</th>\n",
       "      <td>AdaBoost</td>\n",
       "      <td>29.375362</td>\n",
       "      <td>28.610432</td>\n",
       "      <td>2.796502</td>\n",
       "      <td>0.051399</td>\n",
       "    </tr>\n",
       "    <tr>\n",
       "      <th>0</th>\n",
       "      <td>Decision Tree</td>\n",
       "      <td>37.105501</td>\n",
       "      <td>38.796203</td>\n",
       "      <td>3.965597</td>\n",
       "      <td>0.003599</td>\n",
       "    </tr>\n",
       "  </tbody>\n",
       "</table>\n",
       "</div>"
      ],
      "text/plain": [
       "                Model  RMSE_test    RMSE_cv  rmse_Std      Time\n",
       "9                 EBM  25.559451  26.538906  2.928745  1.302912\n",
       "1       Random Forest  26.527714  27.335807  3.334061  0.151600\n",
       "10  Linear Regression  26.545738  26.156182  2.910194  0.002003\n",
       "6          ExtraTrees  27.735110  27.292827  2.948893  0.105200\n",
       "5            CatBoost  28.465623  27.322818  3.300429  1.255016\n",
       "7                 KNN  28.888397  29.704169  3.227931  0.001999\n",
       "4      Gradient Boost  29.001088  27.448801  3.289781  0.137202\n",
       "3            LightGBM  29.287183  27.550593  3.601632  1.814198\n",
       "2             XGBoost  29.375231  29.392813  2.936202  4.303913\n",
       "8            AdaBoost  29.375362  28.610432  2.796502  0.051399\n",
       "0       Decision Tree  37.105501  38.796203  3.965597  0.003599"
      ]
     },
     "execution_count": 2,
     "metadata": {},
     "output_type": "execute_result"
    }
   ],
   "source": [
    "diabetes.start() \n",
    "diabetes.result"
   ]
  },
  {
   "cell_type": "markdown",
   "metadata": {},
   "source": [
    "By default, a 5-fold cross validation is performed. `RMSE_cv` is the mean score on the validation folds. `rmse_Std` is the mean standard deviation score from the validation folds.\n",
    "You can customize the number of folds by setting the `cv` parameter. Example with 10-fold cross validation:"
   ]
  },
  {
   "cell_type": "code",
   "execution_count": null,
   "metadata": {},
   "outputs": [],
   "source": [
    "diabetes.start(cv = 10) "
   ]
  },
  {
   "cell_type": "markdown",
   "metadata": {},
   "source": [
    "# Stacking models"
   ]
  },
  {
   "cell_type": "markdown",
   "metadata": {},
   "source": [
    "The above experiment trained all the available models with default parameters.\n",
    "To perform model stacking, let's create another experiment. There is no need to run `load_data` if the data has already been copied in the data folder.\n"
   ]
  },
  {
   "cell_type": "code",
   "execution_count": 3,
   "metadata": {},
   "outputs": [
    {
     "name": "stdout",
     "output_type": "stream",
     "text": [
      "Result loaded\n",
      "Data loaded\n",
      "10:51:24: Training Voting (diverse) 4/5            \r"
     ]
    },
    {
     "data": {
      "text/html": [
       "<div>\n",
       "<style scoped>\n",
       "    .dataframe tbody tr th:only-of-type {\n",
       "        vertical-align: middle;\n",
       "    }\n",
       "\n",
       "    .dataframe tbody tr th {\n",
       "        vertical-align: top;\n",
       "    }\n",
       "\n",
       "    .dataframe thead th {\n",
       "        text-align: right;\n",
       "    }\n",
       "</style>\n",
       "<table border=\"1\" class=\"dataframe\">\n",
       "  <thead>\n",
       "    <tr style=\"text-align: right;\">\n",
       "      <th></th>\n",
       "      <th>Model</th>\n",
       "      <th>RMSE_test</th>\n",
       "      <th>RMSE_cv</th>\n",
       "      <th>rmse_Std</th>\n",
       "      <th>Time</th>\n",
       "    </tr>\n",
       "  </thead>\n",
       "  <tbody>\n",
       "    <tr>\n",
       "      <th>2</th>\n",
       "      <td>Stacking (diverse)</td>\n",
       "      <td>25.810042</td>\n",
       "      <td>26.546858</td>\n",
       "      <td>2.822744</td>\n",
       "      <td>7.049409</td>\n",
       "    </tr>\n",
       "    <tr>\n",
       "      <th>3</th>\n",
       "      <td>Voting (diverse)</td>\n",
       "      <td>26.053284</td>\n",
       "      <td>26.864156</td>\n",
       "      <td>3.488867</td>\n",
       "      <td>1.406394</td>\n",
       "    </tr>\n",
       "    <tr>\n",
       "      <th>0</th>\n",
       "      <td>Stacking (all)</td>\n",
       "      <td>26.521660</td>\n",
       "      <td>26.988583</td>\n",
       "      <td>2.827267</td>\n",
       "      <td>61.703028</td>\n",
       "    </tr>\n",
       "    <tr>\n",
       "      <th>1</th>\n",
       "      <td>Voting (all)</td>\n",
       "      <td>26.587388</td>\n",
       "      <td>26.503379</td>\n",
       "      <td>3.350272</td>\n",
       "      <td>8.767302</td>\n",
       "    </tr>\n",
       "  </tbody>\n",
       "</table>\n",
       "</div>"
      ],
      "text/plain": [
       "                Model  RMSE_test    RMSE_cv  rmse_Std       Time\n",
       "2  Stacking (diverse)  25.810042  26.546858  2.822744   7.049409\n",
       "3    Voting (diverse)  26.053284  26.864156  3.488867   1.406394\n",
       "0      Stacking (all)  26.521660  26.988583  2.827267  61.703028\n",
       "1        Voting (all)  26.587388  26.503379  3.350272   8.767302"
      ]
     },
     "execution_count": 3,
     "metadata": {},
     "output_type": "execute_result"
    }
   ],
   "source": [
    "diabetes_stacking = RegressionExperiment(name = 'diabetes', stacking = True)\n",
    "diabetes_stacking.start()\n",
    "diabetes_stacking.result"
   ]
  },
  {
   "cell_type": "markdown",
   "metadata": {},
   "source": [
    "Stacking all uses every other model as level 0 estimators.\n",
    "Stacking and voting diverse only take the best model from boosting, the best for parallel models (RF, ET) and simple models."
   ]
  },
  {
   "cell_type": "markdown",
   "metadata": {},
   "source": [
    "# Hyperparameter tuning\n",
    "Hyperparameters tuning is as simple as creating another experiment with the flag `tuning = True`. You can also stack tuned models by combining the parameters."
   ]
  },
  {
   "cell_type": "code",
   "execution_count": 3,
   "metadata": {},
   "outputs": [
    {
     "data": {
      "text/html": [
       "<div>\n",
       "<style scoped>\n",
       "    .dataframe tbody tr th:only-of-type {\n",
       "        vertical-align: middle;\n",
       "    }\n",
       "\n",
       "    .dataframe tbody tr th {\n",
       "        vertical-align: top;\n",
       "    }\n",
       "\n",
       "    .dataframe thead th {\n",
       "        text-align: right;\n",
       "    }\n",
       "</style>\n",
       "<table border=\"1\" class=\"dataframe\">\n",
       "  <thead>\n",
       "    <tr style=\"text-align: right;\">\n",
       "      <th></th>\n",
       "      <th>Model</th>\n",
       "      <th>RMSE_test</th>\n",
       "      <th>RMSE_cv</th>\n",
       "      <th>rmse_Std</th>\n",
       "      <th>Time</th>\n",
       "    </tr>\n",
       "  </thead>\n",
       "  <tbody>\n",
       "    <tr>\n",
       "      <th>5</th>\n",
       "      <td>CatBoost</td>\n",
       "      <td>25.531721</td>\n",
       "      <td>26.005380</td>\n",
       "      <td>3.022123</td>\n",
       "      <td>1.122800</td>\n",
       "    </tr>\n",
       "    <tr>\n",
       "      <th>2</th>\n",
       "      <td>XGBoost</td>\n",
       "      <td>25.583461</td>\n",
       "      <td>26.195805</td>\n",
       "      <td>3.226319</td>\n",
       "      <td>1.798199</td>\n",
       "    </tr>\n",
       "    <tr>\n",
       "      <th>3</th>\n",
       "      <td>LightGBM</td>\n",
       "      <td>25.692363</td>\n",
       "      <td>26.334937</td>\n",
       "      <td>3.189525</td>\n",
       "      <td>0.505999</td>\n",
       "    </tr>\n",
       "    <tr>\n",
       "      <th>9</th>\n",
       "      <td>EBM</td>\n",
       "      <td>25.734647</td>\n",
       "      <td>26.185927</td>\n",
       "      <td>3.122633</td>\n",
       "      <td>2.045199</td>\n",
       "    </tr>\n",
       "    <tr>\n",
       "      <th>1</th>\n",
       "      <td>Random Forest</td>\n",
       "      <td>25.746069</td>\n",
       "      <td>26.264782</td>\n",
       "      <td>3.184428</td>\n",
       "      <td>0.100199</td>\n",
       "    </tr>\n",
       "    <tr>\n",
       "      <th>6</th>\n",
       "      <td>ExtraTrees</td>\n",
       "      <td>25.929733</td>\n",
       "      <td>26.308307</td>\n",
       "      <td>3.125071</td>\n",
       "      <td>0.145400</td>\n",
       "    </tr>\n",
       "    <tr>\n",
       "      <th>4</th>\n",
       "      <td>Gradient Boost</td>\n",
       "      <td>26.062517</td>\n",
       "      <td>26.235544</td>\n",
       "      <td>3.346406</td>\n",
       "      <td>0.093402</td>\n",
       "    </tr>\n",
       "    <tr>\n",
       "      <th>8</th>\n",
       "      <td>AdaBoost</td>\n",
       "      <td>26.597059</td>\n",
       "      <td>26.522331</td>\n",
       "      <td>3.318685</td>\n",
       "      <td>0.079001</td>\n",
       "    </tr>\n",
       "    <tr>\n",
       "      <th>10</th>\n",
       "      <td>Linear Regression</td>\n",
       "      <td>26.649405</td>\n",
       "      <td>26.216172</td>\n",
       "      <td>3.020942</td>\n",
       "      <td>0.000600</td>\n",
       "    </tr>\n",
       "    <tr>\n",
       "      <th>0</th>\n",
       "      <td>Decision Tree</td>\n",
       "      <td>26.679701</td>\n",
       "      <td>27.293106</td>\n",
       "      <td>3.269204</td>\n",
       "      <td>0.001000</td>\n",
       "    </tr>\n",
       "    <tr>\n",
       "      <th>7</th>\n",
       "      <td>KNN</td>\n",
       "      <td>27.212723</td>\n",
       "      <td>27.897804</td>\n",
       "      <td>3.489541</td>\n",
       "      <td>0.000400</td>\n",
       "    </tr>\n",
       "  </tbody>\n",
       "</table>\n",
       "</div>"
      ],
      "text/plain": [
       "                Model  RMSE_test    RMSE_cv  rmse_Std      Time\n",
       "5            CatBoost  25.531721  26.005380  3.022123  1.122800\n",
       "2             XGBoost  25.583461  26.195805  3.226319  1.798199\n",
       "3            LightGBM  25.692363  26.334937  3.189525  0.505999\n",
       "9                 EBM  25.734647  26.185927  3.122633  2.045199\n",
       "1       Random Forest  25.746069  26.264782  3.184428  0.100199\n",
       "6          ExtraTrees  25.929733  26.308307  3.125071  0.145400\n",
       "4      Gradient Boost  26.062517  26.235544  3.346406  0.093402\n",
       "8            AdaBoost  26.597059  26.522331  3.318685  0.079001\n",
       "10  Linear Regression  26.649405  26.216172  3.020942  0.000600\n",
       "0       Decision Tree  26.679701  27.293106  3.269204  0.001000\n",
       "7                 KNN  27.212723  27.897804  3.489541  0.000400"
      ]
     },
     "execution_count": 3,
     "metadata": {},
     "output_type": "execute_result"
    }
   ],
   "source": [
    "diabetes_tuned = RegressionExperiment(name = 'diabetes', tuning = True)\n",
    "#n_eval optional paramerer, default = 100\n",
    "diabetes_tuned.start(n_eval = 100)\n",
    "diabetes_tuned.result"
   ]
  },
  {
   "cell_type": "code",
   "execution_count": 5,
   "metadata": {},
   "outputs": [
    {
     "data": {
      "text/html": [
       "<div>\n",
       "<style scoped>\n",
       "    .dataframe tbody tr th:only-of-type {\n",
       "        vertical-align: middle;\n",
       "    }\n",
       "\n",
       "    .dataframe tbody tr th {\n",
       "        vertical-align: top;\n",
       "    }\n",
       "\n",
       "    .dataframe thead th {\n",
       "        text-align: right;\n",
       "    }\n",
       "</style>\n",
       "<table border=\"1\" class=\"dataframe\">\n",
       "  <thead>\n",
       "    <tr style=\"text-align: right;\">\n",
       "      <th></th>\n",
       "      <th>Model</th>\n",
       "      <th>RMSE_test</th>\n",
       "      <th>RMSE_cv</th>\n",
       "      <th>rmse_Std</th>\n",
       "      <th>Time</th>\n",
       "    </tr>\n",
       "  </thead>\n",
       "  <tbody>\n",
       "    <tr>\n",
       "      <th>2</th>\n",
       "      <td>Stacking (diverse)</td>\n",
       "      <td>25.459647</td>\n",
       "      <td>25.952576</td>\n",
       "      <td>3.100108</td>\n",
       "      <td>6.207174</td>\n",
       "    </tr>\n",
       "    <tr>\n",
       "      <th>3</th>\n",
       "      <td>Voting (diverse)</td>\n",
       "      <td>25.502212</td>\n",
       "      <td>25.926700</td>\n",
       "      <td>3.261200</td>\n",
       "      <td>1.046467</td>\n",
       "    </tr>\n",
       "    <tr>\n",
       "      <th>0</th>\n",
       "      <td>Stacking (all)</td>\n",
       "      <td>25.553054</td>\n",
       "      <td>26.649562</td>\n",
       "      <td>3.079056</td>\n",
       "      <td>29.515667</td>\n",
       "    </tr>\n",
       "    <tr>\n",
       "      <th>1</th>\n",
       "      <td>Voting (all)</td>\n",
       "      <td>25.553578</td>\n",
       "      <td>25.921760</td>\n",
       "      <td>3.252272</td>\n",
       "      <td>4.945500</td>\n",
       "    </tr>\n",
       "  </tbody>\n",
       "</table>\n",
       "</div>"
      ],
      "text/plain": [
       "                Model  RMSE_test    RMSE_cv  rmse_Std       Time\n",
       "2  Stacking (diverse)  25.459647  25.952576  3.100108   6.207174\n",
       "3    Voting (diverse)  25.502212  25.926700  3.261200   1.046467\n",
       "0      Stacking (all)  25.553054  26.649562  3.079056  29.515667\n",
       "1        Voting (all)  25.553578  25.921760  3.252272   4.945500"
      ]
     },
     "execution_count": 5,
     "metadata": {},
     "output_type": "execute_result"
    }
   ],
   "source": [
    "diabetes_stacking_tuned = RegressionExperiment(name = 'diabetes', tuning = True, stacking = True)\n",
    "diabetes_stacking_tuned.start()\n",
    "diabetes_stacking_tuned.result"
   ]
  },
  {
   "cell_type": "markdown",
   "metadata": {},
   "source": [
    "The `start` method starts optimizing every single model with 100 runs of Bayesian Optimization using TPE algorithm. It's based on the package hyperopt.\n",
    "\n",
    "But don't worry! Since optimizing models take a lot of time, you don't need to optimize each one in a single run.  \n",
    "pycaML saves optimized parameters to the `experiments/diabetes/params/` folder. When running the experiments, the parameters are automatically loaded if they already exists. So you won't run the same optimization twice (unless you delete the file)  \n",
    "The `experiments/diabetes/trials/` folder contains additional informations on the optimization runs.\n",
    "\n"
   ]
  },
  {
   "cell_type": "markdown",
   "metadata": {},
   "source": [
    "# Version \n",
    "pycaML is in early development, in the future many features are planned to be added. \n",
    "\n",
    "# Author \n",
    "If you like the package, you can find me on [LinkedIn](https://www.linkedin.com/in/donato-riccio-280084146/).\n"
   ]
  }
 ],
 "metadata": {
  "kernelspec": {
   "display_name": "Python 3.10.5 64-bit",
   "language": "python",
   "name": "python3"
  },
  "language_info": {
   "codemirror_mode": {
    "name": "ipython",
    "version": 3
   },
   "file_extension": ".py",
   "mimetype": "text/x-python",
   "name": "python",
   "nbconvert_exporter": "python",
   "pygments_lexer": "ipython3",
   "version": "3.10.5"
  },
  "orig_nbformat": 4,
  "vscode": {
   "interpreter": {
    "hash": "75e9492e2bd1b7cf8a6b7fd9671f0e08d27fd09ea10c5689514de8b5bce7075a"
   }
  }
 },
 "nbformat": 4,
 "nbformat_minor": 2
}
